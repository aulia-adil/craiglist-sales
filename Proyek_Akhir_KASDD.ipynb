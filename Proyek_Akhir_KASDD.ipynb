{
  "cells": [
    {
      "cell_type": "markdown",
      "metadata": {
        "id": "view-in-github",
        "colab_type": "text"
      },
      "source": [
        "<a href=\"https://colab.research.google.com/github/aulia-adil/craiglist-sales/blob/dewa/Proyek_Akhir_KASDD.ipynb\" target=\"_parent\"><img src=\"https://colab.research.google.com/assets/colab-badge.svg\" alt=\"Open In Colab\"/></a>"
      ]
    },
    {
      "cell_type": "markdown",
      "source": [
        "# Rumusan masalah\n",
        "\n",
        "1. **Dataset Craiglist Sales (DCS) ini apa sih?** DCS adalah dataset terkait mobil second yang dijual oleh Perusahaan Craiglist. Tentunya dataset tersebut juga disertai dengan data-data relevan terkait penjualan mobil second tersebut.\n",
        "1. **(Optional) Mengapa DCS dibuat?**\n",
        "1. **(Optional) Bagaimana DCS dibuat?**\n",
        "1. **(Optional) Apakah DCS akurat?**\n",
        "1. **Apa karakteristik DCS?**\n",
        "1. **Apa definisi dari setiap atribut DCS?**\n",
        "1. **Masalah-masalah apa saja yang dimiliki DCS?**\n",
        "1. **Mengapa masalah-masalah tersebut muncul?**\n",
        "1. **Apa solusi dari setiap masalah yang dimiliki DCS?**\n",
        "1. **Apakah ada independent variable dari DCS? Jika iya apa saja?**\n",
        "1. **Apakah ada dependent variable dari DCS? Jika iya apa saja dan bagaimana korelasi hubungannya?**\n",
        "1. **Bagaimana cara visualisasi dari setiap atribut yang ada pada DCS?**\n",
        "1. **Apa makna dari setiap distribusi yang dimiliki atribut-atribut DCS? Apakah ada anomali di dalamnya?**\n",
        "1. **(Optional) Apakah DCS dapat dikaitkan dengan dataset lain?**\n",
        "1. **Apa yang bisa kita dapatkan dari DCS ini?**"
      ],
      "metadata": {
        "id": "2ufbJKx3KS9K"
      }
    },
    {
      "cell_type": "markdown",
      "source": [
        "## Import Module dan Dataset"
      ],
      "metadata": {
        "tags": [],
        "cell_id": "00000-44f36f92-7e60-41ef-a623-6ad1d2be5880",
        "deepnote_cell_type": "markdown",
        "id": "-J53lnTBEg1g"
      }
    },
    {
      "cell_type": "code",
      "source": [
        "# Library Adil nanti dibersihin aja\n",
        "# import library\n",
        "import matplotlib.pyplot as plt\n",
        "import numpy as np\n",
        "import os\n",
        "import pandas as pd\n",
        "import pandas as pd\n",
        "import numpy as np\n",
        "import seaborn as sns\n",
        "import plotly.express as px\n",
        "import matplotlib.pyplot as plt\n",
        "import scipy.stats as scp\n",
        "import statsmodels.api as sm\n",
        "import sys\n",
        "import pandas as pd\n",
        "import numpy as np\n",
        "from sklearn.metrics.pairwise import cosine_similarity\n",
        "import seaborn as sns\n",
        "import plotly.express as px\n",
        "import matplotlib.pyplot as plt\n",
        "import scipy.stats as scp\n",
        "import statsmodels.api as sm\n",
        "import sklearn.manifold as smn\n",
        "from sklearn.decomposition import PCA\n",
        "from sklearn.preprocessing import LabelEncoder, Normalizer, StandardScaler, RobustScaler\n",
        "import math\n",
        "import numpy as np\n",
        "import pandas as pd\n",
        "import seaborn as sns\n",
        "import matplotlib.pyplot as plt\n",
        "from sklearn import preprocessing, svm\n",
        "from sklearn.model_selection import train_test_split\n",
        "from sklearn.linear_model import LinearRegression\n",
        "from sklearn.model_selection import train_test_split"
      ],
      "metadata": {
        "id": "rrCV-TS5sewR",
        "outputId": "5314ab40-1776-4311-bb76-2e9bac52fde3",
        "colab": {
          "base_uri": "https://localhost:8080/"
        }
      },
      "execution_count": 1,
      "outputs": [
        {
          "output_type": "stream",
          "name": "stderr",
          "text": [
            "/usr/local/lib/python3.7/dist-packages/statsmodels/tools/_testing.py:19: FutureWarning:\n",
            "\n",
            "pandas.util.testing is deprecated. Use the functions in the public API at pandas.testing instead.\n",
            "\n"
          ]
        }
      ]
    },
    {
      "cell_type": "code",
      "metadata": {
        "tags": [],
        "cell_id": "00000-84a7b9bf-8652-42ef-b9b5-e6b2322d28f4",
        "deepnote_to_be_reexecuted": false,
        "source_hash": "24b26b86",
        "execution_start": 1639201605307,
        "execution_millis": 1792,
        "deepnote_output_heights": [
          40.399993896484375
        ],
        "deepnote_cell_type": "code",
        "id": "Wi-cmCuYEg1r"
      },
      "source": [
        "import pandas as pd\n",
        "import numpy as np\n",
        "import matplotlib.pyplot as plt\n",
        "import seaborn as sns\n",
        "from google.colab import drive\n",
        "from sklearn.preprocessing import StandardScaler, MinMaxScaler\n",
        "import scipy.stats as scp"
      ],
      "execution_count": 2,
      "outputs": []
    },
    {
      "cell_type": "code",
      "source": [
        "def download_from_gdrive(file_id):\n",
        "  downloaded = drive.CreateFile({'id':file_id})\n",
        "  downloaded.FetchMetadata(fetch_all=True)\n",
        "  downloaded.GetContentFile(downloaded.metadata['title'])"
      ],
      "metadata": {
        "id": "_ONIDg_ho6jW"
      },
      "execution_count": 3,
      "outputs": []
    },
    {
      "cell_type": "code",
      "execution_count": 4,
      "metadata": {
        "id": "oUmYdImK1su7"
      },
      "outputs": [],
      "source": [
        "# import cell\n",
        "from pydrive.auth import GoogleAuth\n",
        "from pydrive.drive import GoogleDrive\n",
        "from google.colab import auth\n",
        "from oauth2client.client import GoogleCredentials\n",
        "\n",
        "# Authenticate and create the PyDrive client.\n",
        "auth.authenticate_user()\n",
        "gauth = GoogleAuth()\n",
        "gauth.credentials = GoogleCredentials.get_application_default()\n",
        "drive = GoogleDrive(gauth)"
      ]
    },
    {
      "cell_type": "code",
      "source": [
        "# Colab harus menggunakan akun UI untuk bisa mendownload file ini\n",
        "download_from_gdrive('1BpEsEOQyd9F7m4TC7oGfu6e0wKtHV7gj')"
      ],
      "metadata": {
        "id": "QQUSLgx5qa1W"
      },
      "execution_count": 5,
      "outputs": []
    },
    {
      "cell_type": "code",
      "source": [
        "!unzip 'archive.zip'"
      ],
      "metadata": {
        "id": "jJ-aAXK3qVUk",
        "colab": {
          "base_uri": "https://localhost:8080/"
        },
        "outputId": "51673e0b-ebb9-447c-e7a9-1bc53424a925"
      },
      "execution_count": null,
      "outputs": [
        {
          "output_type": "stream",
          "name": "stdout",
          "text": [
            "Archive:  archive.zip\n",
            "replace vehicles.csv? [y]es, [n]o, [A]ll, [N]one, [r]ename: "
          ]
        }
      ]
    },
    {
      "cell_type": "code",
      "source": [
        "# Read dataset\n",
        "data = pd.read_csv(\"vehicles.csv\")"
      ],
      "metadata": {
        "id": "FxS-hjuFZfoa"
      },
      "execution_count": null,
      "outputs": []
    },
    {
      "cell_type": "markdown",
      "source": [
        "## Exploratory Data Analysis dan Preprocessing Raw Data\n",
        "\n",
        "Pertanyaan EDA Raw:\n",
        "\n",
        "1. Apakah setiap atribut numerik bertipe numerik?\n",
        "1. Apakah setiap atribut kategorik bertipe kategorik?\n",
        "1. Berapa banyak persentase missing values setiap atribut?\n",
        "1. Apakah ada row duplikat?\n",
        "1. Apakah ada outlier?"
      ],
      "metadata": {
        "tags": [],
        "cell_id": "00004-9e347088-4601-4470-a7c8-6a1ade1ed9e4",
        "deepnote_cell_type": "markdown",
        "id": "tWVejSWoEg11"
      }
    },
    {
      "cell_type": "code",
      "source": [
        "#@title Fungsi\n",
        "def see_dataset_dimension(data):\n",
        "  print(\"Dimension\")\n",
        "  print(\"Row:\", data.shape[0])\n",
        "  print(\"Column:\", data.shape[1])\n",
        "\n",
        "def see_numerical_attribute(data):\n",
        "  num_attr = data.select_dtypes(include=[np.number])\n",
        "  print(\"Numerical Attribute\")\n",
        "  i = 1\n",
        "  for column in num_attr.columns:\n",
        "    print(str(i) + \".\", column)\n",
        "    i += 1\n",
        "\n",
        "def see_categorical_attribute(data):\n",
        "  cat_attr = data.select_dtypes(exclude=[np.number])\n",
        "  print(\"Categorical Attribute\")\n",
        "  i = 1\n",
        "  for column in cat_attr.columns:\n",
        "    print(str(i) + \".\", column)\n",
        "    i += 1\n",
        "\n",
        "def count_outlier_column(data, column):\n",
        "  q1 = data.quantile(q=0.25)[column]\n",
        "  q3 = data.quantile(q=0.75)[column]\n",
        "  iqr = q3-q1\n",
        "  upper_bound = q3 + iqr * 1.5\n",
        "  lower_bound = q1 - iqr * 1.5\n",
        "  upper_outliers = data.loc[data[column] > upper_bound, [column]]\n",
        "  lower_outliers = data.loc[data[column] < lower_bound, [column]]\n",
        "  return len(upper_outliers) + len(lower_outliers)\n",
        "\n",
        "def numeric_descriptive_statistic(df):\n",
        "  df = df.select_dtypes(include=[np.number])\n",
        "  desc_stat = df.describe()\n",
        "  columns = df.columns\n",
        "  mode_list = []\n",
        "  variance_list = []\n",
        "  range_list = []\n",
        "  skewness_list = []\n",
        "  outlier_list = []\n",
        "  for column in columns:\n",
        "    outlier_list.append(count_outlier_column(df, column))\n",
        "    skewness_list.append(df[column].skew())\n",
        "    range = desc_stat[column][\"max\"]-desc_stat[column][\"min\"]\n",
        "    range_list.append(range)\n",
        "    variance = desc_stat[column][\"std\"] ** 2\n",
        "    variance_list.append(variance)\n",
        "    mode_list.append(scp.mode(df[column])[0][0])\n",
        "  desc_stat.loc[\"mode\"] = mode_list\n",
        "  desc_stat.loc[\"variance\"] = variance_list\n",
        "  desc_stat.loc[\"range\"] = range_list\n",
        "  desc_stat.loc[\"skewness\"] = skewness_list\n",
        "  desc_stat.loc[\"total outlier\"] = outlier_list\n",
        "  return desc_stat\n",
        "\n",
        "def numeric_cleaning_fillna_mean(df):\n",
        "  df_res = df.select_dtypes(include=[np.number])\n",
        "  columns = df_res.columns\n",
        "  for column in columns:\n",
        "    mean = df_res[column].mean()\n",
        "    df_res[column].fillna(value=mean, inplace=True)\n",
        "  return df_res\n",
        "\n",
        "# Cek missing value\n",
        "def cek_null(df):\n",
        "    col_na = df.isnull().sum().sort_values(ascending=False)\n",
        "    percent = col_na / len(df)\n",
        "    \n",
        "    missing_data = pd.concat([col_na, percent], axis=1, keys=['Total', 'Percent'])\n",
        "    print(missing_data[missing_data['Total'] > 0])"
      ],
      "metadata": {
        "cellView": "form",
        "id": "EKaDMxqFnB74"
      },
      "execution_count": null,
      "outputs": []
    },
    {
      "cell_type": "code",
      "source": [
        "print(\"Dimensi\")\n",
        "print(\"Baris:\", data.shape[0])\n",
        "print(\"Kolom:\", data.shape[1])\n",
        "\n",
        "print()\n",
        "num_attr = data.select_dtypes(include=[np.number])\n",
        "print(\"Atribut numerik\")\n",
        "i = 1\n",
        "for column in num_attr.columns:\n",
        "  print(str(i) + \".\", column)\n",
        "  i += 1\n",
        "\n",
        "print(\"\\nAtribut kategorik\")\n",
        "cat_attr = data.select_dtypes(exclude=[np.number])\n",
        "i = 1\n",
        "for column in cat_attr.columns:\n",
        "  print(str(i) + \".\", column)\n",
        "  i += 1\n",
        "\n",
        "print(\"\\nDescriptive Statistic Numerical Attribute\")\n",
        "num_desc_stat = numeric_descriptive_statistic(data)\n",
        "display(num_desc_stat)\n",
        "\n",
        "print(\"\\nDescriptive Statistic Categorical Attribute\")\n",
        "display(cat_attr.describe())\n",
        "\n",
        "print(\"\\nLihat persentase missing values\")\n",
        "display(cek_null(data))\n",
        "\n",
        "print(\"\\nHitung duplikasi data\")\n",
        "no_dup = data.drop_duplicates(inplace=False)\n",
        "print(\"Jumlah duplikasi data:\", len(data) - len(no_dup))\n",
        "\n",
        "print(\"\\nHitung outlier\")\n",
        "display(pd.DataFrame(num_desc_stat.loc['total outlier']))"
      ],
      "metadata": {
        "tags": [],
        "cell_id": "00003-5848ad70-082e-4261-b99d-2e5c109db2e8",
        "deepnote_to_be_reexecuted": false,
        "source_hash": "e2c81e5a",
        "execution_start": 1639201634926,
        "execution_millis": 49,
        "deepnote_output_heights": [
          520.4000244140625
        ],
        "deepnote_cell_type": "code",
        "id": "kJ0nCIY0Eg1z"
      },
      "outputs": [],
      "execution_count": null
    },
    {
      "cell_type": "code",
      "source": [
        "print(\"Atribut drive dan cylinders terlihat numerik\")\n",
        "print()\n",
        "print(\"Atribut drive\")\n",
        "display(cat_attr['drive'].dropna())\n",
        "print()\n",
        "print(\"Atribute cylinders\")\n",
        "display(cat_attr['cylinders'].dropna())"
      ],
      "metadata": {
        "id": "qgZXZ3wlZxOT"
      },
      "execution_count": null,
      "outputs": []
    },
    {
      "cell_type": "markdown",
      "source": [
        "#### Identifikasi masalah dataset\n",
        "\n",
        "1. Atribut `cylinders` disebut atribut kategorik tetapi sebenarnya mirip dengan atribut numerik.\n",
        "1. Atribut `county` semuanya null values.\n",
        "1. Atribut `size` hingga `paint color` memiliki banyak missing values.\n",
        "1. Banyak outlier pada atribut numerik, hal ini perlu di visualisasi persebarannya."
      ],
      "metadata": {
        "id": "j0kBvbtAcHk8"
      }
    },
    {
      "cell_type": "code",
      "source": [
        "cleaned_data = data.copy()\n",
        "# Drop kolom county\n",
        "cleaned_data.drop(columns = ['county'], inplace = True)"
      ],
      "metadata": {
        "tags": [],
        "cell_id": "00005-4266ffa2-2bcc-4985-aa8d-ce1ba32c1680",
        "deepnote_to_be_reexecuted": false,
        "source_hash": "703882f",
        "execution_start": 1639201634980,
        "execution_millis": 2167,
        "deepnote_output_heights": [
          520.4000244140625,
          457.8500061035156,
          467.16668701171875
        ],
        "deepnote_cell_type": "code",
        "id": "IzdUU5j_Eg13"
      },
      "outputs": [],
      "execution_count": null
    },
    {
      "cell_type": "markdown",
      "source": [
        "#### Visualisasi banyak iklan yang diposting setiap state"
      ],
      "metadata": {
        "id": "BF9RcF-Qx56d"
      }
    },
    {
      "cell_type": "code",
      "source": [
        "print(\"State yang paling banyak memposting iklan adalah CA\")\n",
        "plt.figure(figsize = (20, 10))\n",
        "sns.countplot(x = 'state', data = data)\n",
        "plt.xlabel(\"state\")\n",
        "plt.xticks(rotation = \"vertical\")\n",
        "plt.show()"
      ],
      "metadata": {
        "id": "-mO7eD0fw4hK"
      },
      "execution_count": null,
      "outputs": []
    },
    {
      "cell_type": "markdown",
      "source": [
        "#### Visualisasi jumlah nilai odometer untuk setiap state"
      ],
      "metadata": {
        "id": "6tX-28a8yFHz"
      }
    },
    {
      "cell_type": "code",
      "source": [
        "# (Hint di soal disuruh pake year sama odometer, tapi menurutku odometer cukup)\n",
        "state_odo = cleaned_data.loc[:, ['state', 'odometer']]\n",
        "state_odo = state_odo.groupby('state', as_index = False).sum()\n",
        "\n",
        "plt.figure(figsize = (20, 10))\n",
        "sns.barplot(x = 'state', y = 'odometer', data = state_odo)\n",
        "plt.xlabel(\"state\")\n",
        "plt.ylabel(\"sum of odometer values\")\n",
        "plt.xticks(rotation = \"vertical\")\n",
        "plt.show()\n",
        "print(\"State yang paling sering menggunakan mobil adalah CA\")"
      ],
      "metadata": {
        "id": "7HEVhkmuw0ym"
      },
      "execution_count": null,
      "outputs": []
    },
    {
      "cell_type": "markdown",
      "source": [
        "#### Jenis kendaraan paling populer untuk setiap state"
      ],
      "metadata": {
        "id": "5Njqp--F8nK8"
      }
    },
    {
      "cell_type": "markdown",
      "source": [
        "##### Berdasarkan type"
      ],
      "metadata": {
        "id": "igdEmdJk8zcV"
      }
    },
    {
      "cell_type": "code",
      "source": [
        "state_type = cleaned_data.loc[:, ['state', 'type']]\n",
        "grid = sns.catplot(x = 'type', col = 'state', col_wrap = 8, data = state_type, kind = 'count', height = 2.5)\n",
        "grid.set_xticklabels(rotation = \"vertical\")\n",
        "plt.show()"
      ],
      "metadata": {
        "id": "rYTTUlOSw7tm"
      },
      "execution_count": null,
      "outputs": []
    },
    {
      "cell_type": "markdown",
      "source": [
        "# Test Model"
      ],
      "metadata": {
        "id": "NGheIZ5RyUlx"
      }
    },
    {
      "cell_type": "code",
      "source": [
        "def cylinder_encode(x):\n",
        "  if x not in [np.nan, 'other']:\n",
        "    return int(x.split()[0])\n",
        "  else:\n",
        "    return x\n",
        "\n",
        "new_data = cleaned_data.copy()\n",
        "cylinders = new_data.loc[~new_data['cylinders'].isin([np.nan, 'other']), 'cylinders']\n",
        "cylinders = cylinders.apply(cylinder_encode)\n",
        "\n",
        "cyl_mode = cylinders.quantile(0.5)\n",
        "new_data['cylinders'] = new_data['cylinders'].apply(cylinder_encode)\n",
        "new_data['cylinders'].replace(to_replace = [np.nan, 'other'], value = [cyl_mode, cyl_mode], inplace = True)"
      ],
      "metadata": {
        "id": "IaTcltFBRXy-"
      },
      "execution_count": null,
      "outputs": []
    },
    {
      "cell_type": "code",
      "source": [
        "from sklearn.neural_network import MLPRegressor\n",
        "from sklearn.linear_model import LinearRegression\n",
        "\n",
        "X = new_data.loc[:, ['cylinders', 'odometer']].fillna(0)\n",
        "y = new_data.loc[:, ['price']]\n",
        "X_train, X_test, y_train, y_test = train_test_split(X, y, test_size = 0.3, random_state = 18)\n",
        "\n",
        "#reg = MLPRegressor()\n",
        "reg = LinearRegression()\n",
        "reg.fit(X_train, y_train)\n",
        "y_pred = reg.predict(X_test)"
      ],
      "metadata": {
        "id": "0RSXioh-yT4i"
      },
      "execution_count": null,
      "outputs": []
    },
    {
      "cell_type": "code",
      "source": [
        "from sklearn.metrics import r2_score, mean_absolute_error, mean_squared_error\n",
        "\n",
        "print(\"R2 square:\", r2_score(y_test, y_pred))\n",
        "print(\"MAE:\", mean_absolute_error(y_test, y_pred))\n",
        "print(\"MSE:\", mean_squared_error(y_test, y_pred))"
      ],
      "metadata": {
        "id": "LzXS8co9Hxzr"
      },
      "execution_count": null,
      "outputs": []
    }
  ],
  "nbformat": 4,
  "nbformat_minor": 0,
  "metadata": {
    "orig_nbformat": 2,
    "deepnote": {
      "is_reactive": false
    },
    "deepnote_notebook_id": "9bcf7ded-3d58-4408-a855-71bbd4433c6a",
    "deepnote_execution_queue": [],
    "colab": {
      "name": "Proyek Akhir KASDD.ipynb",
      "provenance": [],
      "collapsed_sections": [],
      "include_colab_link": true
    },
    "language_info": {
      "name": "python"
    },
    "kernelspec": {
      "name": "python3",
      "display_name": "Python 3"
    }
  }
}