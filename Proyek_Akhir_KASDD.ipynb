{
  "cells": [
    {
      "cell_type": "markdown",
      "metadata": {
        "id": "view-in-github",
        "colab_type": "text"
      },
      "source": [
        "<a href=\"https://colab.research.google.com/github/aulia-adil/craiglist-sales/blob/dewa/Proyek_Akhir_KASDD.ipynb\" target=\"_parent\"><img src=\"https://colab.research.google.com/assets/colab-badge.svg\" alt=\"Open In Colab\"/></a>"
      ]
    },
    {
      "cell_type": "markdown",
      "source": [
        "# Rumusan masalah\n",
        "\n",
        "1. **Dataset Craiglist Sales (DCS) ini apa sih?** DCS adalah dataset terkait mobil second yang dijual oleh Perusahaan Craiglist. Tentunya dataset tersebut juga disertai dengan data-data relevan terkait penjualan mobil second tersebut.\n",
        "1. **(Optional) Mengapa DCS dibuat?**\n",
        "1. **(Optional) Bagaimana DCS dibuat?**\n",
        "1. **(Optional) Apakah DCS akurat?**\n",
        "1. **Apa karakteristik DCS?**\n",
        "1. **Apa definisi dari setiap atribut DCS?**\n",
        "1. **Masalah-masalah apa saja yang dimiliki DCS?**\n",
        "1. **Mengapa masalah-masalah tersebut muncul?**\n",
        "1. **Apa solusi dari setiap masalah yang dimiliki DCS?**\n",
        "1. **Apakah ada independent variable dari DCS? Jika iya apa saja?**\n",
        "1. **Apakah ada dependent variable dari DCS? Jika iya apa saja dan bagaimana korelasi hubungannya?**\n",
        "1. **Bagaimana cara visualisasi dari setiap atribut yang ada pada DCS?**\n",
        "1. **Apa makna dari setiap distribusi yang dimiliki atribut-atribut DCS? Apakah ada anomali di dalamnya?**\n",
        "1. **(Optional) Apakah DCS dapat dikaitkan dengan dataset lain?**\n",
        "1. **Apa yang bisa kita dapatkan dari DCS ini?**"
      ],
      "metadata": {
        "id": "2ufbJKx3KS9K"
      }
    },
    {
      "cell_type": "markdown",
      "source": [
        "## Import Module dan Dataset"
      ],
      "metadata": {
        "tags": [],
        "cell_id": "00000-44f36f92-7e60-41ef-a623-6ad1d2be5880",
        "deepnote_cell_type": "markdown",
        "id": "-J53lnTBEg1g"
      }
    },
    {
      "cell_type": "code",
      "source": [
        "# Library Adil nanti dibersihin aja\n",
        "# import library\n",
        "import matplotlib.pyplot as plt\n",
        "import numpy as np\n",
        "import os\n",
        "import pandas as pd\n",
        "import pandas as pd\n",
        "import numpy as np\n",
        "import seaborn as sns\n",
        "import plotly.express as px\n",
        "import matplotlib.pyplot as plt\n",
        "import scipy.stats as scp\n",
        "import statsmodels.api as sm\n",
        "import sys\n",
        "import pandas as pd\n",
        "import numpy as np\n",
        "from sklearn.metrics.pairwise import cosine_similarity\n",
        "import seaborn as sns\n",
        "import plotly.express as px\n",
        "import matplotlib.pyplot as plt\n",
        "import scipy.stats as scp\n",
        "import statsmodels.api as sm\n",
        "import sklearn.manifold as smn\n",
        "from sklearn.decomposition import PCA\n",
        "from sklearn.preprocessing import LabelEncoder, Normalizer, StandardScaler, RobustScaler\n",
        "import math\n",
        "import numpy as np\n",
        "import pandas as pd\n",
        "import seaborn as sns\n",
        "import matplotlib.pyplot as plt\n",
        "from sklearn import preprocessing, svm\n",
        "from sklearn.model_selection import train_test_split\n",
        "from sklearn.linear_model import LinearRegression\n",
        "from sklearn.model_selection import train_test_split"
      ],
      "metadata": {
        "id": "rrCV-TS5sewR",
        "outputId": "5c06f508-9a79-4207-d58d-54789e6452e8",
        "colab": {
          "base_uri": "https://localhost:8080/"
        }
      },
      "execution_count": 1,
      "outputs": [
        {
          "output_type": "stream",
          "name": "stderr",
          "text": [
            "/usr/local/lib/python3.7/dist-packages/statsmodels/tools/_testing.py:19: FutureWarning:\n",
            "\n",
            "pandas.util.testing is deprecated. Use the functions in the public API at pandas.testing instead.\n",
            "\n"
          ]
        }
      ]
    },
    {
      "cell_type": "code",
      "metadata": {
        "tags": [],
        "cell_id": "00000-84a7b9bf-8652-42ef-b9b5-e6b2322d28f4",
        "deepnote_to_be_reexecuted": false,
        "source_hash": "24b26b86",
        "execution_start": 1639201605307,
        "execution_millis": 1792,
        "deepnote_output_heights": [
          40.399993896484375
        ],
        "deepnote_cell_type": "code",
        "id": "Wi-cmCuYEg1r"
      },
      "source": [
        "import pandas as pd\n",
        "import numpy as np\n",
        "import matplotlib.pyplot as plt\n",
        "import seaborn as sns\n",
        "from google.colab import drive\n",
        "from sklearn.preprocessing import StandardScaler, MinMaxScaler\n",
        "import scipy.stats as scp"
      ],
      "execution_count": 2,
      "outputs": []
    },
    {
      "cell_type": "code",
      "source": [
        "def download_from_gdrive(file_id):\n",
        "  downloaded = drive.CreateFile({'id':file_id})\n",
        "  downloaded.FetchMetadata(fetch_all=True)\n",
        "  downloaded.GetContentFile(downloaded.metadata['title'])"
      ],
      "metadata": {
        "id": "_ONIDg_ho6jW"
      },
      "execution_count": 3,
      "outputs": []
    },
    {
      "cell_type": "code",
      "execution_count": 4,
      "metadata": {
        "id": "oUmYdImK1su7"
      },
      "outputs": [],
      "source": [
        "# import cell\n",
        "from pydrive.auth import GoogleAuth\n",
        "from pydrive.drive import GoogleDrive\n",
        "from google.colab import auth\n",
        "from oauth2client.client import GoogleCredentials\n",
        "\n",
        "# Authenticate and create the PyDrive client.\n",
        "auth.authenticate_user()\n",
        "gauth = GoogleAuth()\n",
        "gauth.credentials = GoogleCredentials.get_application_default()\n",
        "drive = GoogleDrive(gauth)"
      ]
    },
    {
      "cell_type": "code",
      "source": [
        "# Colab harus menggunakan akun UI untuk bisa mendownload file ini\n",
        "download_from_gdrive('1BpEsEOQyd9F7m4TC7oGfu6e0wKtHV7gj')"
      ],
      "metadata": {
        "id": "QQUSLgx5qa1W"
      },
      "execution_count": 5,
      "outputs": []
    },
    {
      "cell_type": "code",
      "source": [
        "!unzip -o 'archive.zip'"
      ],
      "metadata": {
        "id": "jJ-aAXK3qVUk",
        "colab": {
          "base_uri": "https://localhost:8080/"
        },
        "outputId": "1d444434-805b-480d-beb7-daa6cb25f3a3"
      },
      "execution_count": 6,
      "outputs": [
        {
          "output_type": "stream",
          "name": "stdout",
          "text": [
            "Archive:  archive.zip\n",
            "  inflating: vehicles.csv            \n"
          ]
        }
      ]
    },
    {
      "cell_type": "code",
      "source": [
        "# Read dataset\n",
        "data = pd.read_csv(\"vehicles.csv\")"
      ],
      "metadata": {
        "id": "FxS-hjuFZfoa"
      },
      "execution_count": 7,
      "outputs": []
    },
    {
      "cell_type": "markdown",
      "source": [
        "## Exploratory Data Analysis dan Preprocessing Raw Data\n",
        "\n",
        "Pertanyaan EDA Raw:\n",
        "\n",
        "1. Apakah setiap atribut numerik bertipe numerik?\n",
        "1. Apakah setiap atribut kategorik bertipe kategorik?\n",
        "1. Berapa banyak persentase missing values setiap atribut?\n",
        "1. Apakah ada row duplikat?\n",
        "1. Apakah ada outlier?"
      ],
      "metadata": {
        "tags": [],
        "cell_id": "00004-9e347088-4601-4470-a7c8-6a1ade1ed9e4",
        "deepnote_cell_type": "markdown",
        "id": "tWVejSWoEg11"
      }
    },
    {
      "cell_type": "code",
      "source": [
        "#@title Fungsi\n",
        "def see_dataset_dimension(data):\n",
        "  print(\"Dimension\")\n",
        "  print(\"Row:\", data.shape[0])\n",
        "  print(\"Column:\", data.shape[1])\n",
        "\n",
        "def see_numerical_attribute(data):\n",
        "  num_attr = data.select_dtypes(include=[np.number])\n",
        "  print(\"Numerical Attribute\")\n",
        "  i = 1\n",
        "  for column in num_attr.columns:\n",
        "    print(str(i) + \".\", column)\n",
        "    i += 1\n",
        "\n",
        "def see_categorical_attribute(data):\n",
        "  cat_attr = data.select_dtypes(exclude=[np.number])\n",
        "  print(\"Categorical Attribute\")\n",
        "  i = 1\n",
        "  for column in cat_attr.columns:\n",
        "    print(str(i) + \".\", column)\n",
        "    i += 1\n",
        "\n",
        "def count_outlier_column(data, column):\n",
        "  q1 = data.quantile(q=0.25)[column]\n",
        "  q3 = data.quantile(q=0.75)[column]\n",
        "  iqr = q3-q1\n",
        "  upper_bound = q3 + iqr * 1.5\n",
        "  lower_bound = q1 - iqr * 1.5\n",
        "  upper_outliers = data.loc[data[column] > upper_bound, [column]]\n",
        "  lower_outliers = data.loc[data[column] < lower_bound, [column]]\n",
        "  return len(upper_outliers) + len(lower_outliers)\n",
        "\n",
        "def numeric_descriptive_statistic(df):\n",
        "  df = df.select_dtypes(include=[np.number])\n",
        "  desc_stat = df.describe()\n",
        "  columns = df.columns\n",
        "  mode_list = []\n",
        "  variance_list = []\n",
        "  range_list = []\n",
        "  skewness_list = []\n",
        "  outlier_list = []\n",
        "  for column in columns:\n",
        "    outlier_list.append(count_outlier_column(df, column))\n",
        "    skewness_list.append(df[column].skew())\n",
        "    range = desc_stat[column][\"max\"]-desc_stat[column][\"min\"]\n",
        "    range_list.append(range)\n",
        "    variance = desc_stat[column][\"std\"] ** 2\n",
        "    variance_list.append(variance)\n",
        "    mode_list.append(scp.mode(df[column])[0][0])\n",
        "  desc_stat.loc[\"mode\"] = mode_list\n",
        "  desc_stat.loc[\"variance\"] = variance_list\n",
        "  desc_stat.loc[\"range\"] = range_list\n",
        "  desc_stat.loc[\"skewness\"] = skewness_list\n",
        "  desc_stat.loc[\"total outlier\"] = outlier_list\n",
        "  return desc_stat\n",
        "\n",
        "def numeric_cleaning_fillna_mean(df):\n",
        "  df_res = df.select_dtypes(include=[np.number])\n",
        "  columns = df_res.columns\n",
        "  for column in columns:\n",
        "    mean = df_res[column].mean()\n",
        "    df_res[column].fillna(value=mean, inplace=True)\n",
        "  return df_res\n",
        "\n",
        "# Cek missing value\n",
        "def cek_null(df):\n",
        "    col_na = df.isnull().sum().sort_values(ascending=False)\n",
        "    percent = col_na / len(df)\n",
        "    \n",
        "    missing_data = pd.concat([col_na, percent], axis=1, keys=['Total', 'Percent'])\n",
        "    print(missing_data[missing_data['Total'] > 0])"
      ],
      "metadata": {
        "id": "EKaDMxqFnB74"
      },
      "execution_count": 8,
      "outputs": []
    },
    {
      "cell_type": "code",
      "source": [
        "print(\"Dimensi\")\n",
        "print(\"Baris:\", data.shape[0])\n",
        "print(\"Kolom:\", data.shape[1])\n",
        "\n",
        "print()\n",
        "num_attr = data.select_dtypes(include=[np.number])\n",
        "print(\"Atribut numerik\")\n",
        "i = 1\n",
        "for column in num_attr.columns:\n",
        "  print(str(i) + \".\", column)\n",
        "  i += 1\n",
        "\n",
        "print(\"\\nAtribut kategorik\")\n",
        "cat_attr = data.select_dtypes(exclude=[np.number])\n",
        "i = 1\n",
        "for column in cat_attr.columns:\n",
        "  print(str(i) + \".\", column)\n",
        "  i += 1\n",
        "\n",
        "print(\"\\nDescriptive Statistic Numerical Attribute\")\n",
        "num_desc_stat = numeric_descriptive_statistic(data)\n",
        "display(num_desc_stat)\n",
        "\n",
        "print(\"\\nDescriptive Statistic Categorical Attribute\")\n",
        "display(cat_attr.describe())\n",
        "\n",
        "print(\"\\nLihat persentase missing values\")\n",
        "display(cek_null(data))\n",
        "\n",
        "print(\"\\nHitung duplikasi data\")\n",
        "no_dup = data.drop_duplicates(inplace=False)\n",
        "print(\"Jumlah duplikasi data:\", len(data) - len(no_dup))\n",
        "\n",
        "print(\"\\nHitung outlier\")\n",
        "display(pd.DataFrame(num_desc_stat.loc['total outlier']))"
      ],
      "metadata": {
        "tags": [],
        "cell_id": "00003-5848ad70-082e-4261-b99d-2e5c109db2e8",
        "deepnote_to_be_reexecuted": false,
        "source_hash": "e2c81e5a",
        "execution_start": 1639201634926,
        "execution_millis": 49,
        "deepnote_output_heights": [
          520.4000244140625
        ],
        "deepnote_cell_type": "code",
        "id": "kJ0nCIY0Eg1z",
        "outputId": "0da9204b-f1f1-4318-ddde-3a108fa08b10",
        "colab": {
          "base_uri": "https://localhost:8080/",
          "height": 1000
        }
      },
      "outputs": [
        {
          "output_type": "stream",
          "name": "stdout",
          "text": [
            "Dimensi\n",
            "Baris: 426880\n",
            "Kolom: 26\n",
            "\n",
            "Atribut numerik\n",
            "1. id\n",
            "2. price\n",
            "3. year\n",
            "4. odometer\n",
            "5. county\n",
            "6. lat\n",
            "7. long\n",
            "\n",
            "Atribut kategorik\n",
            "1. url\n",
            "2. region\n",
            "3. region_url\n",
            "4. manufacturer\n",
            "5. model\n",
            "6. condition\n",
            "7. cylinders\n",
            "8. fuel\n",
            "9. title_status\n",
            "10. transmission\n",
            "11. VIN\n",
            "12. drive\n",
            "13. size\n",
            "14. type\n",
            "15. paint_color\n",
            "16. image_url\n",
            "17. description\n",
            "18. state\n",
            "19. posting_date\n",
            "\n",
            "Descriptive Statistic Numerical Attribute\n"
          ]
        },
        {
          "output_type": "display_data",
          "data": {
            "text/html": [
              "\n",
              "  <div id=\"df-26a6f6be-c806-4d52-bed6-62e263754cd2\">\n",
              "    <div class=\"colab-df-container\">\n",
              "      <div>\n",
              "<style scoped>\n",
              "    .dataframe tbody tr th:only-of-type {\n",
              "        vertical-align: middle;\n",
              "    }\n",
              "\n",
              "    .dataframe tbody tr th {\n",
              "        vertical-align: top;\n",
              "    }\n",
              "\n",
              "    .dataframe thead th {\n",
              "        text-align: right;\n",
              "    }\n",
              "</style>\n",
              "<table border=\"1\" class=\"dataframe\">\n",
              "  <thead>\n",
              "    <tr style=\"text-align: right;\">\n",
              "      <th></th>\n",
              "      <th>id</th>\n",
              "      <th>price</th>\n",
              "      <th>year</th>\n",
              "      <th>odometer</th>\n",
              "      <th>county</th>\n",
              "      <th>lat</th>\n",
              "      <th>long</th>\n",
              "    </tr>\n",
              "  </thead>\n",
              "  <tbody>\n",
              "    <tr>\n",
              "      <th>count</th>\n",
              "      <td>4.268800e+05</td>\n",
              "      <td>4.268800e+05</td>\n",
              "      <td>425675.000000</td>\n",
              "      <td>4.224800e+05</td>\n",
              "      <td>0.0</td>\n",
              "      <td>420331.000000</td>\n",
              "      <td>420331.000000</td>\n",
              "    </tr>\n",
              "    <tr>\n",
              "      <th>mean</th>\n",
              "      <td>7.311487e+09</td>\n",
              "      <td>7.519903e+04</td>\n",
              "      <td>2011.235191</td>\n",
              "      <td>9.804333e+04</td>\n",
              "      <td>NaN</td>\n",
              "      <td>38.493940</td>\n",
              "      <td>-94.748599</td>\n",
              "    </tr>\n",
              "    <tr>\n",
              "      <th>std</th>\n",
              "      <td>4.473170e+06</td>\n",
              "      <td>1.218228e+07</td>\n",
              "      <td>9.452120</td>\n",
              "      <td>2.138815e+05</td>\n",
              "      <td>NaN</td>\n",
              "      <td>5.841533</td>\n",
              "      <td>18.365462</td>\n",
              "    </tr>\n",
              "    <tr>\n",
              "      <th>min</th>\n",
              "      <td>7.207408e+09</td>\n",
              "      <td>0.000000e+00</td>\n",
              "      <td>1900.000000</td>\n",
              "      <td>0.000000e+00</td>\n",
              "      <td>NaN</td>\n",
              "      <td>-84.122245</td>\n",
              "      <td>-159.827728</td>\n",
              "    </tr>\n",
              "    <tr>\n",
              "      <th>25%</th>\n",
              "      <td>7.308143e+09</td>\n",
              "      <td>5.900000e+03</td>\n",
              "      <td>2008.000000</td>\n",
              "      <td>3.770400e+04</td>\n",
              "      <td>NaN</td>\n",
              "      <td>34.601900</td>\n",
              "      <td>-111.939847</td>\n",
              "    </tr>\n",
              "    <tr>\n",
              "      <th>50%</th>\n",
              "      <td>7.312621e+09</td>\n",
              "      <td>1.395000e+04</td>\n",
              "      <td>2013.000000</td>\n",
              "      <td>8.554800e+04</td>\n",
              "      <td>NaN</td>\n",
              "      <td>39.150100</td>\n",
              "      <td>-88.432600</td>\n",
              "    </tr>\n",
              "    <tr>\n",
              "      <th>75%</th>\n",
              "      <td>7.315254e+09</td>\n",
              "      <td>2.648575e+04</td>\n",
              "      <td>2017.000000</td>\n",
              "      <td>1.335425e+05</td>\n",
              "      <td>NaN</td>\n",
              "      <td>42.398900</td>\n",
              "      <td>-80.832039</td>\n",
              "    </tr>\n",
              "    <tr>\n",
              "      <th>max</th>\n",
              "      <td>7.317101e+09</td>\n",
              "      <td>3.736929e+09</td>\n",
              "      <td>2022.000000</td>\n",
              "      <td>1.000000e+07</td>\n",
              "      <td>NaN</td>\n",
              "      <td>82.390818</td>\n",
              "      <td>173.885502</td>\n",
              "    </tr>\n",
              "    <tr>\n",
              "      <th>mode</th>\n",
              "      <td>7.207408e+09</td>\n",
              "      <td>0.000000e+00</td>\n",
              "      <td>2017.000000</td>\n",
              "      <td>1.000000e+05</td>\n",
              "      <td>NaN</td>\n",
              "      <td>33.779214</td>\n",
              "      <td>-84.411811</td>\n",
              "    </tr>\n",
              "    <tr>\n",
              "      <th>variance</th>\n",
              "      <td>2.000925e+13</td>\n",
              "      <td>1.484080e+14</td>\n",
              "      <td>89.342565</td>\n",
              "      <td>4.574530e+10</td>\n",
              "      <td>NaN</td>\n",
              "      <td>34.123514</td>\n",
              "      <td>337.290210</td>\n",
              "    </tr>\n",
              "    <tr>\n",
              "      <th>range</th>\n",
              "      <td>1.096930e+08</td>\n",
              "      <td>3.736929e+09</td>\n",
              "      <td>122.000000</td>\n",
              "      <td>1.000000e+07</td>\n",
              "      <td>NaN</td>\n",
              "      <td>166.513063</td>\n",
              "      <td>333.713230</td>\n",
              "    </tr>\n",
              "    <tr>\n",
              "      <th>skewness</th>\n",
              "      <td>-1.430123e+00</td>\n",
              "      <td>2.544069e+02</td>\n",
              "      <td>-3.577920</td>\n",
              "      <td>3.804001e+01</td>\n",
              "      <td>NaN</td>\n",
              "      <td>-0.199779</td>\n",
              "      <td>-0.632958</td>\n",
              "    </tr>\n",
              "    <tr>\n",
              "      <th>total outlier</th>\n",
              "      <td>4.400000e+01</td>\n",
              "      <td>8.177000e+03</td>\n",
              "      <td>15896.000000</td>\n",
              "      <td>4.385000e+03</td>\n",
              "      <td>0.0</td>\n",
              "      <td>6413.000000</td>\n",
              "      <td>195.000000</td>\n",
              "    </tr>\n",
              "  </tbody>\n",
              "</table>\n",
              "</div>\n",
              "      <button class=\"colab-df-convert\" onclick=\"convertToInteractive('df-26a6f6be-c806-4d52-bed6-62e263754cd2')\"\n",
              "              title=\"Convert this dataframe to an interactive table.\"\n",
              "              style=\"display:none;\">\n",
              "        \n",
              "  <svg xmlns=\"http://www.w3.org/2000/svg\" height=\"24px\"viewBox=\"0 0 24 24\"\n",
              "       width=\"24px\">\n",
              "    <path d=\"M0 0h24v24H0V0z\" fill=\"none\"/>\n",
              "    <path d=\"M18.56 5.44l.94 2.06.94-2.06 2.06-.94-2.06-.94-.94-2.06-.94 2.06-2.06.94zm-11 1L8.5 8.5l.94-2.06 2.06-.94-2.06-.94L8.5 2.5l-.94 2.06-2.06.94zm10 10l.94 2.06.94-2.06 2.06-.94-2.06-.94-.94-2.06-.94 2.06-2.06.94z\"/><path d=\"M17.41 7.96l-1.37-1.37c-.4-.4-.92-.59-1.43-.59-.52 0-1.04.2-1.43.59L10.3 9.45l-7.72 7.72c-.78.78-.78 2.05 0 2.83L4 21.41c.39.39.9.59 1.41.59.51 0 1.02-.2 1.41-.59l7.78-7.78 2.81-2.81c.8-.78.8-2.07 0-2.86zM5.41 20L4 18.59l7.72-7.72 1.47 1.35L5.41 20z\"/>\n",
              "  </svg>\n",
              "      </button>\n",
              "      \n",
              "  <style>\n",
              "    .colab-df-container {\n",
              "      display:flex;\n",
              "      flex-wrap:wrap;\n",
              "      gap: 12px;\n",
              "    }\n",
              "\n",
              "    .colab-df-convert {\n",
              "      background-color: #E8F0FE;\n",
              "      border: none;\n",
              "      border-radius: 50%;\n",
              "      cursor: pointer;\n",
              "      display: none;\n",
              "      fill: #1967D2;\n",
              "      height: 32px;\n",
              "      padding: 0 0 0 0;\n",
              "      width: 32px;\n",
              "    }\n",
              "\n",
              "    .colab-df-convert:hover {\n",
              "      background-color: #E2EBFA;\n",
              "      box-shadow: 0px 1px 2px rgba(60, 64, 67, 0.3), 0px 1px 3px 1px rgba(60, 64, 67, 0.15);\n",
              "      fill: #174EA6;\n",
              "    }\n",
              "\n",
              "    [theme=dark] .colab-df-convert {\n",
              "      background-color: #3B4455;\n",
              "      fill: #D2E3FC;\n",
              "    }\n",
              "\n",
              "    [theme=dark] .colab-df-convert:hover {\n",
              "      background-color: #434B5C;\n",
              "      box-shadow: 0px 1px 3px 1px rgba(0, 0, 0, 0.15);\n",
              "      filter: drop-shadow(0px 1px 2px rgba(0, 0, 0, 0.3));\n",
              "      fill: #FFFFFF;\n",
              "    }\n",
              "  </style>\n",
              "\n",
              "      <script>\n",
              "        const buttonEl =\n",
              "          document.querySelector('#df-26a6f6be-c806-4d52-bed6-62e263754cd2 button.colab-df-convert');\n",
              "        buttonEl.style.display =\n",
              "          google.colab.kernel.accessAllowed ? 'block' : 'none';\n",
              "\n",
              "        async function convertToInteractive(key) {\n",
              "          const element = document.querySelector('#df-26a6f6be-c806-4d52-bed6-62e263754cd2');\n",
              "          const dataTable =\n",
              "            await google.colab.kernel.invokeFunction('convertToInteractive',\n",
              "                                                     [key], {});\n",
              "          if (!dataTable) return;\n",
              "\n",
              "          const docLinkHtml = 'Like what you see? Visit the ' +\n",
              "            '<a target=\"_blank\" href=https://colab.research.google.com/notebooks/data_table.ipynb>data table notebook</a>'\n",
              "            + ' to learn more about interactive tables.';\n",
              "          element.innerHTML = '';\n",
              "          dataTable['output_type'] = 'display_data';\n",
              "          await google.colab.output.renderOutput(dataTable, element);\n",
              "          const docLink = document.createElement('div');\n",
              "          docLink.innerHTML = docLinkHtml;\n",
              "          element.appendChild(docLink);\n",
              "        }\n",
              "      </script>\n",
              "    </div>\n",
              "  </div>\n",
              "  "
            ],
            "text/plain": [
              "                         id         price  ...            lat           long\n",
              "count          4.268800e+05  4.268800e+05  ...  420331.000000  420331.000000\n",
              "mean           7.311487e+09  7.519903e+04  ...      38.493940     -94.748599\n",
              "std            4.473170e+06  1.218228e+07  ...       5.841533      18.365462\n",
              "min            7.207408e+09  0.000000e+00  ...     -84.122245    -159.827728\n",
              "25%            7.308143e+09  5.900000e+03  ...      34.601900    -111.939847\n",
              "50%            7.312621e+09  1.395000e+04  ...      39.150100     -88.432600\n",
              "75%            7.315254e+09  2.648575e+04  ...      42.398900     -80.832039\n",
              "max            7.317101e+09  3.736929e+09  ...      82.390818     173.885502\n",
              "mode           7.207408e+09  0.000000e+00  ...      33.779214     -84.411811\n",
              "variance       2.000925e+13  1.484080e+14  ...      34.123514     337.290210\n",
              "range          1.096930e+08  3.736929e+09  ...     166.513063     333.713230\n",
              "skewness      -1.430123e+00  2.544069e+02  ...      -0.199779      -0.632958\n",
              "total outlier  4.400000e+01  8.177000e+03  ...    6413.000000     195.000000\n",
              "\n",
              "[13 rows x 7 columns]"
            ]
          },
          "metadata": {}
        },
        {
          "output_type": "stream",
          "name": "stdout",
          "text": [
            "\n",
            "Descriptive Statistic Categorical Attribute\n"
          ]
        },
        {
          "output_type": "display_data",
          "data": {
            "text/html": [
              "\n",
              "  <div id=\"df-b7a26eff-1f6d-428c-8630-f6df03d42a1d\">\n",
              "    <div class=\"colab-df-container\">\n",
              "      <div>\n",
              "<style scoped>\n",
              "    .dataframe tbody tr th:only-of-type {\n",
              "        vertical-align: middle;\n",
              "    }\n",
              "\n",
              "    .dataframe tbody tr th {\n",
              "        vertical-align: top;\n",
              "    }\n",
              "\n",
              "    .dataframe thead th {\n",
              "        text-align: right;\n",
              "    }\n",
              "</style>\n",
              "<table border=\"1\" class=\"dataframe\">\n",
              "  <thead>\n",
              "    <tr style=\"text-align: right;\">\n",
              "      <th></th>\n",
              "      <th>url</th>\n",
              "      <th>region</th>\n",
              "      <th>region_url</th>\n",
              "      <th>manufacturer</th>\n",
              "      <th>model</th>\n",
              "      <th>condition</th>\n",
              "      <th>cylinders</th>\n",
              "      <th>fuel</th>\n",
              "      <th>title_status</th>\n",
              "      <th>transmission</th>\n",
              "      <th>VIN</th>\n",
              "      <th>drive</th>\n",
              "      <th>size</th>\n",
              "      <th>type</th>\n",
              "      <th>paint_color</th>\n",
              "      <th>image_url</th>\n",
              "      <th>description</th>\n",
              "      <th>state</th>\n",
              "      <th>posting_date</th>\n",
              "    </tr>\n",
              "  </thead>\n",
              "  <tbody>\n",
              "    <tr>\n",
              "      <th>count</th>\n",
              "      <td>426880</td>\n",
              "      <td>426880</td>\n",
              "      <td>426880</td>\n",
              "      <td>409234</td>\n",
              "      <td>421603</td>\n",
              "      <td>252776</td>\n",
              "      <td>249202</td>\n",
              "      <td>423867</td>\n",
              "      <td>418638</td>\n",
              "      <td>424324</td>\n",
              "      <td>265838</td>\n",
              "      <td>296313</td>\n",
              "      <td>120519</td>\n",
              "      <td>334022</td>\n",
              "      <td>296677</td>\n",
              "      <td>426812</td>\n",
              "      <td>426810</td>\n",
              "      <td>426880</td>\n",
              "      <td>426812</td>\n",
              "    </tr>\n",
              "    <tr>\n",
              "      <th>unique</th>\n",
              "      <td>426880</td>\n",
              "      <td>404</td>\n",
              "      <td>413</td>\n",
              "      <td>42</td>\n",
              "      <td>29667</td>\n",
              "      <td>6</td>\n",
              "      <td>8</td>\n",
              "      <td>5</td>\n",
              "      <td>6</td>\n",
              "      <td>3</td>\n",
              "      <td>118264</td>\n",
              "      <td>3</td>\n",
              "      <td>4</td>\n",
              "      <td>13</td>\n",
              "      <td>12</td>\n",
              "      <td>241899</td>\n",
              "      <td>360911</td>\n",
              "      <td>51</td>\n",
              "      <td>381536</td>\n",
              "    </tr>\n",
              "    <tr>\n",
              "      <th>top</th>\n",
              "      <td>https://orlando.craigslist.org/ctd/d/orlando-2...</td>\n",
              "      <td>columbus</td>\n",
              "      <td>https://spokane.craigslist.org</td>\n",
              "      <td>ford</td>\n",
              "      <td>f-150</td>\n",
              "      <td>good</td>\n",
              "      <td>6 cylinders</td>\n",
              "      <td>gas</td>\n",
              "      <td>clean</td>\n",
              "      <td>automatic</td>\n",
              "      <td>1FMJU1JT1HEA52352</td>\n",
              "      <td>4wd</td>\n",
              "      <td>full-size</td>\n",
              "      <td>sedan</td>\n",
              "      <td>white</td>\n",
              "      <td>https://images.craigslist.org/00N0N_1xMPvfxRAI...</td>\n",
              "      <td>35 VEHICLES PRICED UNDER $3000!!!  BIG TIME! T...</td>\n",
              "      <td>ca</td>\n",
              "      <td>2021-04-23T22:13:05-0400</td>\n",
              "    </tr>\n",
              "    <tr>\n",
              "      <th>freq</th>\n",
              "      <td>1</td>\n",
              "      <td>3608</td>\n",
              "      <td>2988</td>\n",
              "      <td>70985</td>\n",
              "      <td>8009</td>\n",
              "      <td>121456</td>\n",
              "      <td>94169</td>\n",
              "      <td>356209</td>\n",
              "      <td>405117</td>\n",
              "      <td>336524</td>\n",
              "      <td>261</td>\n",
              "      <td>131904</td>\n",
              "      <td>63465</td>\n",
              "      <td>87056</td>\n",
              "      <td>79285</td>\n",
              "      <td>7357</td>\n",
              "      <td>231</td>\n",
              "      <td>50614</td>\n",
              "      <td>12</td>\n",
              "    </tr>\n",
              "  </tbody>\n",
              "</table>\n",
              "</div>\n",
              "      <button class=\"colab-df-convert\" onclick=\"convertToInteractive('df-b7a26eff-1f6d-428c-8630-f6df03d42a1d')\"\n",
              "              title=\"Convert this dataframe to an interactive table.\"\n",
              "              style=\"display:none;\">\n",
              "        \n",
              "  <svg xmlns=\"http://www.w3.org/2000/svg\" height=\"24px\"viewBox=\"0 0 24 24\"\n",
              "       width=\"24px\">\n",
              "    <path d=\"M0 0h24v24H0V0z\" fill=\"none\"/>\n",
              "    <path d=\"M18.56 5.44l.94 2.06.94-2.06 2.06-.94-2.06-.94-.94-2.06-.94 2.06-2.06.94zm-11 1L8.5 8.5l.94-2.06 2.06-.94-2.06-.94L8.5 2.5l-.94 2.06-2.06.94zm10 10l.94 2.06.94-2.06 2.06-.94-2.06-.94-.94-2.06-.94 2.06-2.06.94z\"/><path d=\"M17.41 7.96l-1.37-1.37c-.4-.4-.92-.59-1.43-.59-.52 0-1.04.2-1.43.59L10.3 9.45l-7.72 7.72c-.78.78-.78 2.05 0 2.83L4 21.41c.39.39.9.59 1.41.59.51 0 1.02-.2 1.41-.59l7.78-7.78 2.81-2.81c.8-.78.8-2.07 0-2.86zM5.41 20L4 18.59l7.72-7.72 1.47 1.35L5.41 20z\"/>\n",
              "  </svg>\n",
              "      </button>\n",
              "      \n",
              "  <style>\n",
              "    .colab-df-container {\n",
              "      display:flex;\n",
              "      flex-wrap:wrap;\n",
              "      gap: 12px;\n",
              "    }\n",
              "\n",
              "    .colab-df-convert {\n",
              "      background-color: #E8F0FE;\n",
              "      border: none;\n",
              "      border-radius: 50%;\n",
              "      cursor: pointer;\n",
              "      display: none;\n",
              "      fill: #1967D2;\n",
              "      height: 32px;\n",
              "      padding: 0 0 0 0;\n",
              "      width: 32px;\n",
              "    }\n",
              "\n",
              "    .colab-df-convert:hover {\n",
              "      background-color: #E2EBFA;\n",
              "      box-shadow: 0px 1px 2px rgba(60, 64, 67, 0.3), 0px 1px 3px 1px rgba(60, 64, 67, 0.15);\n",
              "      fill: #174EA6;\n",
              "    }\n",
              "\n",
              "    [theme=dark] .colab-df-convert {\n",
              "      background-color: #3B4455;\n",
              "      fill: #D2E3FC;\n",
              "    }\n",
              "\n",
              "    [theme=dark] .colab-df-convert:hover {\n",
              "      background-color: #434B5C;\n",
              "      box-shadow: 0px 1px 3px 1px rgba(0, 0, 0, 0.15);\n",
              "      filter: drop-shadow(0px 1px 2px rgba(0, 0, 0, 0.3));\n",
              "      fill: #FFFFFF;\n",
              "    }\n",
              "  </style>\n",
              "\n",
              "      <script>\n",
              "        const buttonEl =\n",
              "          document.querySelector('#df-b7a26eff-1f6d-428c-8630-f6df03d42a1d button.colab-df-convert');\n",
              "        buttonEl.style.display =\n",
              "          google.colab.kernel.accessAllowed ? 'block' : 'none';\n",
              "\n",
              "        async function convertToInteractive(key) {\n",
              "          const element = document.querySelector('#df-b7a26eff-1f6d-428c-8630-f6df03d42a1d');\n",
              "          const dataTable =\n",
              "            await google.colab.kernel.invokeFunction('convertToInteractive',\n",
              "                                                     [key], {});\n",
              "          if (!dataTable) return;\n",
              "\n",
              "          const docLinkHtml = 'Like what you see? Visit the ' +\n",
              "            '<a target=\"_blank\" href=https://colab.research.google.com/notebooks/data_table.ipynb>data table notebook</a>'\n",
              "            + ' to learn more about interactive tables.';\n",
              "          element.innerHTML = '';\n",
              "          dataTable['output_type'] = 'display_data';\n",
              "          await google.colab.output.renderOutput(dataTable, element);\n",
              "          const docLink = document.createElement('div');\n",
              "          docLink.innerHTML = docLinkHtml;\n",
              "          element.appendChild(docLink);\n",
              "        }\n",
              "      </script>\n",
              "    </div>\n",
              "  </div>\n",
              "  "
            ],
            "text/plain": [
              "                                                      url  ...              posting_date\n",
              "count                                              426880  ...                    426812\n",
              "unique                                             426880  ...                    381536\n",
              "top     https://orlando.craigslist.org/ctd/d/orlando-2...  ...  2021-04-23T22:13:05-0400\n",
              "freq                                                    1  ...                        12\n",
              "\n",
              "[4 rows x 19 columns]"
            ]
          },
          "metadata": {}
        },
        {
          "output_type": "stream",
          "name": "stdout",
          "text": [
            "\n",
            "Lihat persentase missing values\n",
            "               Total   Percent\n",
            "county        426880  1.000000\n",
            "size          306361  0.717675\n",
            "cylinders     177678  0.416225\n",
            "condition     174104  0.407852\n",
            "VIN           161042  0.377254\n",
            "drive         130567  0.305863\n",
            "paint_color   130203  0.305011\n",
            "type           92858  0.217527\n",
            "manufacturer   17646  0.041337\n",
            "title_status    8242  0.019308\n",
            "long            6549  0.015342\n",
            "lat             6549  0.015342\n",
            "model           5277  0.012362\n",
            "odometer        4400  0.010307\n",
            "fuel            3013  0.007058\n",
            "transmission    2556  0.005988\n",
            "year            1205  0.002823\n",
            "description       70  0.000164\n",
            "posting_date      68  0.000159\n",
            "image_url         68  0.000159\n"
          ]
        },
        {
          "output_type": "display_data",
          "data": {
            "text/plain": [
              "None"
            ]
          },
          "metadata": {}
        },
        {
          "output_type": "stream",
          "name": "stdout",
          "text": [
            "\n",
            "Hitung duplikasi data\n",
            "Jumlah duplikasi data: 0\n",
            "\n",
            "Hitung outlier\n"
          ]
        },
        {
          "output_type": "display_data",
          "data": {
            "text/html": [
              "\n",
              "  <div id=\"df-5edcb24a-9b29-4329-a09c-25ab61728a76\">\n",
              "    <div class=\"colab-df-container\">\n",
              "      <div>\n",
              "<style scoped>\n",
              "    .dataframe tbody tr th:only-of-type {\n",
              "        vertical-align: middle;\n",
              "    }\n",
              "\n",
              "    .dataframe tbody tr th {\n",
              "        vertical-align: top;\n",
              "    }\n",
              "\n",
              "    .dataframe thead th {\n",
              "        text-align: right;\n",
              "    }\n",
              "</style>\n",
              "<table border=\"1\" class=\"dataframe\">\n",
              "  <thead>\n",
              "    <tr style=\"text-align: right;\">\n",
              "      <th></th>\n",
              "      <th>total outlier</th>\n",
              "    </tr>\n",
              "  </thead>\n",
              "  <tbody>\n",
              "    <tr>\n",
              "      <th>id</th>\n",
              "      <td>44.0</td>\n",
              "    </tr>\n",
              "    <tr>\n",
              "      <th>price</th>\n",
              "      <td>8177.0</td>\n",
              "    </tr>\n",
              "    <tr>\n",
              "      <th>year</th>\n",
              "      <td>15896.0</td>\n",
              "    </tr>\n",
              "    <tr>\n",
              "      <th>odometer</th>\n",
              "      <td>4385.0</td>\n",
              "    </tr>\n",
              "    <tr>\n",
              "      <th>county</th>\n",
              "      <td>0.0</td>\n",
              "    </tr>\n",
              "    <tr>\n",
              "      <th>lat</th>\n",
              "      <td>6413.0</td>\n",
              "    </tr>\n",
              "    <tr>\n",
              "      <th>long</th>\n",
              "      <td>195.0</td>\n",
              "    </tr>\n",
              "  </tbody>\n",
              "</table>\n",
              "</div>\n",
              "      <button class=\"colab-df-convert\" onclick=\"convertToInteractive('df-5edcb24a-9b29-4329-a09c-25ab61728a76')\"\n",
              "              title=\"Convert this dataframe to an interactive table.\"\n",
              "              style=\"display:none;\">\n",
              "        \n",
              "  <svg xmlns=\"http://www.w3.org/2000/svg\" height=\"24px\"viewBox=\"0 0 24 24\"\n",
              "       width=\"24px\">\n",
              "    <path d=\"M0 0h24v24H0V0z\" fill=\"none\"/>\n",
              "    <path d=\"M18.56 5.44l.94 2.06.94-2.06 2.06-.94-2.06-.94-.94-2.06-.94 2.06-2.06.94zm-11 1L8.5 8.5l.94-2.06 2.06-.94-2.06-.94L8.5 2.5l-.94 2.06-2.06.94zm10 10l.94 2.06.94-2.06 2.06-.94-2.06-.94-.94-2.06-.94 2.06-2.06.94z\"/><path d=\"M17.41 7.96l-1.37-1.37c-.4-.4-.92-.59-1.43-.59-.52 0-1.04.2-1.43.59L10.3 9.45l-7.72 7.72c-.78.78-.78 2.05 0 2.83L4 21.41c.39.39.9.59 1.41.59.51 0 1.02-.2 1.41-.59l7.78-7.78 2.81-2.81c.8-.78.8-2.07 0-2.86zM5.41 20L4 18.59l7.72-7.72 1.47 1.35L5.41 20z\"/>\n",
              "  </svg>\n",
              "      </button>\n",
              "      \n",
              "  <style>\n",
              "    .colab-df-container {\n",
              "      display:flex;\n",
              "      flex-wrap:wrap;\n",
              "      gap: 12px;\n",
              "    }\n",
              "\n",
              "    .colab-df-convert {\n",
              "      background-color: #E8F0FE;\n",
              "      border: none;\n",
              "      border-radius: 50%;\n",
              "      cursor: pointer;\n",
              "      display: none;\n",
              "      fill: #1967D2;\n",
              "      height: 32px;\n",
              "      padding: 0 0 0 0;\n",
              "      width: 32px;\n",
              "    }\n",
              "\n",
              "    .colab-df-convert:hover {\n",
              "      background-color: #E2EBFA;\n",
              "      box-shadow: 0px 1px 2px rgba(60, 64, 67, 0.3), 0px 1px 3px 1px rgba(60, 64, 67, 0.15);\n",
              "      fill: #174EA6;\n",
              "    }\n",
              "\n",
              "    [theme=dark] .colab-df-convert {\n",
              "      background-color: #3B4455;\n",
              "      fill: #D2E3FC;\n",
              "    }\n",
              "\n",
              "    [theme=dark] .colab-df-convert:hover {\n",
              "      background-color: #434B5C;\n",
              "      box-shadow: 0px 1px 3px 1px rgba(0, 0, 0, 0.15);\n",
              "      filter: drop-shadow(0px 1px 2px rgba(0, 0, 0, 0.3));\n",
              "      fill: #FFFFFF;\n",
              "    }\n",
              "  </style>\n",
              "\n",
              "      <script>\n",
              "        const buttonEl =\n",
              "          document.querySelector('#df-5edcb24a-9b29-4329-a09c-25ab61728a76 button.colab-df-convert');\n",
              "        buttonEl.style.display =\n",
              "          google.colab.kernel.accessAllowed ? 'block' : 'none';\n",
              "\n",
              "        async function convertToInteractive(key) {\n",
              "          const element = document.querySelector('#df-5edcb24a-9b29-4329-a09c-25ab61728a76');\n",
              "          const dataTable =\n",
              "            await google.colab.kernel.invokeFunction('convertToInteractive',\n",
              "                                                     [key], {});\n",
              "          if (!dataTable) return;\n",
              "\n",
              "          const docLinkHtml = 'Like what you see? Visit the ' +\n",
              "            '<a target=\"_blank\" href=https://colab.research.google.com/notebooks/data_table.ipynb>data table notebook</a>'\n",
              "            + ' to learn more about interactive tables.';\n",
              "          element.innerHTML = '';\n",
              "          dataTable['output_type'] = 'display_data';\n",
              "          await google.colab.output.renderOutput(dataTable, element);\n",
              "          const docLink = document.createElement('div');\n",
              "          docLink.innerHTML = docLinkHtml;\n",
              "          element.appendChild(docLink);\n",
              "        }\n",
              "      </script>\n",
              "    </div>\n",
              "  </div>\n",
              "  "
            ],
            "text/plain": [
              "          total outlier\n",
              "id                 44.0\n",
              "price            8177.0\n",
              "year            15896.0\n",
              "odometer         4385.0\n",
              "county              0.0\n",
              "lat              6413.0\n",
              "long              195.0"
            ]
          },
          "metadata": {}
        }
      ],
      "execution_count": 9
    },
    {
      "cell_type": "code",
      "source": [
        "print(\"Atribut drive dan cylinders terlihat numerik\")\n",
        "print()\n",
        "print(\"Atribut drive\")\n",
        "display(cat_attr['drive'].dropna())\n",
        "print()\n",
        "print(\"Atribute cylinders\")\n",
        "display(cat_attr['cylinders'].dropna())"
      ],
      "metadata": {
        "id": "qgZXZ3wlZxOT",
        "outputId": "80dec9a4-5484-49d0-eedb-d91fac502483",
        "colab": {
          "base_uri": "https://localhost:8080/",
          "height": 573
        }
      },
      "execution_count": 10,
      "outputs": [
        {
          "output_type": "stream",
          "name": "stdout",
          "text": [
            "Atribut drive dan cylinders terlihat numerik\n",
            "\n",
            "Atribut drive\n"
          ]
        },
        {
          "output_type": "display_data",
          "data": {
            "text/plain": [
              "31        rwd\n",
              "32        4wd\n",
              "33        4wd\n",
              "34        4wd\n",
              "35        4wd\n",
              "         ... \n",
              "426874    rwd\n",
              "426875    fwd\n",
              "426876    fwd\n",
              "426878    fwd\n",
              "426879    rwd\n",
              "Name: drive, Length: 296313, dtype: object"
            ]
          },
          "metadata": {}
        },
        {
          "output_type": "stream",
          "name": "stdout",
          "text": [
            "\n",
            "Atribute cylinders\n"
          ]
        },
        {
          "output_type": "display_data",
          "data": {
            "text/plain": [
              "27        8 cylinders\n",
              "28        8 cylinders\n",
              "29        8 cylinders\n",
              "30        8 cylinders\n",
              "31        6 cylinders\n",
              "             ...     \n",
              "426866    8 cylinders\n",
              "426868    6 cylinders\n",
              "426874    6 cylinders\n",
              "426875    6 cylinders\n",
              "426878    6 cylinders\n",
              "Name: cylinders, Length: 249202, dtype: object"
            ]
          },
          "metadata": {}
        }
      ]
    },
    {
      "cell_type": "markdown",
      "source": [
        "#### Identifikasi masalah dataset\n",
        "\n",
        "1. Atribut `cylinders` disebut atribut kategorik tetapi sebenarnya mirip dengan atribut numerik.\n",
        "1. Atribut `county` semuanya null values.\n",
        "1. Atribut `size` hingga `paint color` memiliki banyak missing values.\n",
        "1. Banyak outlier pada atribut numerik, hal ini perlu di visualisasi persebarannya."
      ],
      "metadata": {
        "id": "j0kBvbtAcHk8"
      }
    },
    {
      "cell_type": "code",
      "source": [
        "cleaned_data = data.copy()\n",
        "# Drop kolom county\n",
        "cleaned_data.drop(columns = ['county'], inplace = True)"
      ],
      "metadata": {
        "tags": [],
        "cell_id": "00005-4266ffa2-2bcc-4985-aa8d-ce1ba32c1680",
        "deepnote_to_be_reexecuted": false,
        "source_hash": "703882f",
        "execution_start": 1639201634980,
        "execution_millis": 2167,
        "deepnote_output_heights": [
          520.4000244140625,
          457.8500061035156,
          467.16668701171875
        ],
        "deepnote_cell_type": "code",
        "id": "IzdUU5j_Eg13"
      },
      "outputs": [],
      "execution_count": 11
    },
    {
      "cell_type": "markdown",
      "source": [
        "#### Visualisasi banyak iklan yang diposting setiap state"
      ],
      "metadata": {
        "id": "BF9RcF-Qx56d"
      }
    },
    {
      "cell_type": "code",
      "source": [
        "print(\"State yang paling banyak memposting iklan adalah CA\")\n",
        "plt.figure(figsize = (20, 10))\n",
        "sns.countplot(x = 'state', data = data)\n",
        "plt.xlabel(\"state\")\n",
        "plt.xticks(rotation = \"vertical\")\n",
        "plt.show()"
      ],
      "metadata": {
        "colab": {
          "base_uri": "https://localhost:8080/",
          "height": 631
        },
        "id": "-mO7eD0fw4hK",
        "outputId": "f5570f4e-7da2-411f-db65-452707fde6af"
      },
      "execution_count": 12,
      "outputs": [
        {
          "output_type": "stream",
          "name": "stdout",
          "text": [
            "State yang paling banyak memposting iklan adalah CA\n"
          ]
        },
        {
          "output_type": "display_data",
          "data": {
            "image/png": "[encoded data removed]",
            "text/plain": [
              "<Figure size 1440x720 with 1 Axes>"
            ]
          },
          "metadata": {
            "needs_background": "light"
          }
        }
      ]
    },
    {
      "cell_type": "markdown",
      "source": [
        "#### Visualisasi jumlah nilai odometer untuk setiap state"
      ],
      "metadata": {
        "id": "6tX-28a8yFHz"
      }
    },
    {
      "cell_type": "code",
      "source": [
        "# (Hint di soal disuruh pake year sama odometer, tapi menurutku odometer cukup)\n",
        "state_odo = cleaned_data.loc[:, ['state', 'odometer']]\n",
        "state_odo = state_odo.groupby('state', as_index = False).sum()\n",
        "\n",
        "plt.figure(figsize = (20, 10))\n",
        "sns.barplot(x = 'state', y = 'odometer', data = state_odo)\n",
        "plt.xlabel(\"state\")\n",
        "plt.ylabel(\"sum of odometer values\")\n",
        "plt.xticks(rotation = \"vertical\")\n",
        "plt.show()\n",
        "print(\"State yang paling sering menggunakan mobil adalah CA\")"
      ],
      "metadata": {
        "colab": {
          "base_uri": "https://localhost:8080/",
          "height": 642
        },
        "id": "7HEVhkmuw0ym",
        "outputId": "dd87ecb6-ec55-408d-e76d-39cfad426cb0"
      },
      "execution_count": 13,
      "outputs": [
        {
          "output_type": "display_data",
          "data": {
            "image/png": "[encoded data removed]",
            "text/plain": [
              "<Figure size 1440x720 with 1 Axes>"
            ]
          },
          "metadata": {
            "needs_background": "light"
          }
        },
        {
          "output_type": "stream",
          "name": "stdout",
          "text": [
            "State yang paling sering menggunakan mobil adalah CA\n"
          ]
        }
      ]
    },
    {
      "cell_type": "markdown",
      "source": [
        "#### Jenis kendaraan paling populer untuk setiap state"
      ],
      "metadata": {
        "id": "5Njqp--F8nK8"
      }
    },
    {
      "cell_type": "markdown",
      "source": [
        "##### Berdasarkan type"
      ],
      "metadata": {
        "id": "igdEmdJk8zcV"
      }
    },
    {
      "cell_type": "code",
      "source": [
        "state_type = cleaned_data.loc[:, ['state', 'type']]\n",
        "grid = sns.catplot(x = 'type', col = 'state', col_wrap = 8, data = state_type, kind = 'count', height = 2.5)\n",
        "grid.set_xticklabels(rotation = \"vertical\")\n",
        "plt.show()"
      ],
      "metadata": {
        "colab": {
          "base_uri": "https://localhost:8080/",
          "height": 1000
        },
        "id": "rYTTUlOSw7tm",
        "outputId": "e34dd859-6f3c-4547-f676-a09ba17f1cb2"
      },
      "execution_count": 14,
      "outputs": [
        {
          "output_type": "display_data",
          "data": {
            "image/png": "[encoded data removed]",
            "text/plain": [
              "<Figure size 1440x1260 with 51 Axes>"
            ]
          },
          "metadata": {
            "needs_background": "light"
          }
        }
      ]
    },
    {
      "cell_type": "markdown",
      "source": [
        "# Test Model"
      ],
      "metadata": {
        "id": "NGheIZ5RyUlx"
      }
    },
    {
      "cell_type": "markdown",
      "source": [
        "## Download data"
      ],
      "metadata": {
        "id": "zUBeYmEcDJZb"
      }
    },
    {
      "cell_type": "code",
      "source": [
        "def cylinder_encode(x):\n",
        "  if x not in [np.nan, 'other']:\n",
        "    return int(x.split()[0])\n",
        "  else:\n",
        "    return x\n",
        "\n",
        "new_data = cleaned_data.copy()\n",
        "cylinders = new_data.loc[~new_data['cylinders'].isin([np.nan, 'other']), 'cylinders']\n",
        "cylinders = cylinders.apply(cylinder_encode)\n",
        "\n",
        "cyl_mode = cylinders.quantile(0.5)\n",
        "new_data['cylinders'] = new_data['cylinders'].apply(cylinder_encode)\n",
        "new_data['cylinders'].replace(to_replace = [np.nan, 'other'], value = [cyl_mode, cyl_mode], inplace = True)"
      ],
      "metadata": {
        "id": "IaTcltFBRXy-"
      },
      "execution_count": 15,
      "outputs": []
    },
    {
      "cell_type": "code",
      "source": [
        "download_from_gdrive(\"1-4z_qdWGSiC7yP11t6M6PFfgbmZ8HRH4\")\n",
        "download_from_gdrive(\"1-3hx6pNgPLF_Fbc4TKdKcjfwaYS1V0-U\")\n",
        "download_from_gdrive(\"1--TKsa1MBPO-Jp8jXMLa8WxnpC3kLaij\")\n",
        "download_from_gdrive(\"1cjyHEOp_aHH0eRjFozzcm4Daf0ZYxyWR\")"
      ],
      "metadata": {
        "id": "VsSwPJ9M_sdF"
      },
      "execution_count": 16,
      "outputs": []
    },
    {
      "cell_type": "code",
      "source": [
        "_X_train = pd.read_csv(\"training_set.csv\")\n",
        "_y_train = pd.read_csv(\"training_label.csv\")\n",
        "_X_test = pd.read_csv(\"testing_set.csv\")\n",
        "_y_test = pd.read_csv(\"testing_label.csv\")"
      ],
      "metadata": {
        "id": "E6I94PBuHplL"
      },
      "execution_count": 17,
      "outputs": []
    },
    {
      "cell_type": "markdown",
      "source": [
        "## Train and test"
      ],
      "metadata": {
        "id": "YZg2qxavDSci"
      }
    },
    {
      "cell_type": "code",
      "source": [
        "from sklearn.preprocessing import OneHotEncoder, OrdinalEncoder\n",
        "from sklearn.neural_network import MLPRegressor\n",
        "from sklearn.linear_model import LinearRegression"
      ],
      "metadata": {
        "id": "TjQefGtWCzyp"
      },
      "execution_count": 18,
      "outputs": []
    },
    {
      "cell_type": "code",
      "source": [
        "cols = ['fuel', 'transmission']\n",
        "one_hot_cols = pd.get_dummies(_X_train.loc[:, cols], drop_first = True)\n",
        "\n",
        "print(one_hot_cols.shape)\n",
        "\n",
        "cols = ['type', 'manufacturer', 'title_status']\n",
        "# cols = ['type', 'manufacturer', 'title_status', 'fuel', 'transmission']\n",
        "ordinal_cols = _X_train.loc[:, cols]\n",
        "enc = OrdinalEncoder()\n",
        "ordinal_cols = enc.fit_transform(ordinal_cols)\n",
        "\n",
        "X_train = _X_train.loc[:, ['odometer', 'year']]\n",
        "scaler = MinMaxScaler()\n",
        "# scaler = StandardScaler()\n",
        "X_train = scaler.fit_transform(X_train)\n",
        "X_train = np.hstack([X_train, ordinal_cols, one_hot_cols])\n",
        "# X_train = np.hstack([X_train, one_hot_cols])"
      ],
      "metadata": {
        "id": "-P-dJyQGakj6",
        "outputId": "dc962ceb-f9f7-4a1c-b85c-07155708779b",
        "colab": {
          "base_uri": "https://localhost:8080/"
        }
      },
      "execution_count": 19,
      "outputs": [
        {
          "output_type": "stream",
          "name": "stdout",
          "text": [
            "(278563, 6)\n"
          ]
        }
      ]
    },
    {
      "cell_type": "code",
      "source": [
        "y_train = _y_train.copy()\n",
        "scaler = MinMaxScaler()\n",
        "# scaler = StandardScaler()\n",
        "y_train = scaler.fit_transform(y_train)"
      ],
      "metadata": {
        "id": "Pc3A2ZYsang7"
      },
      "execution_count": 20,
      "outputs": []
    },
    {
      "cell_type": "code",
      "source": [
        "def clean_outlier(df):\n",
        "  Q1 = df.quantile(0.25)\n",
        "  Q3 = df.quantile(0.75)\n",
        "  IQR = Q3 - Q1\n",
        "  result = df[~((df < (Q1 - 1.5 * IQR)) |(df > (Q3 + 1.5 * IQR))).any(axis=1)]\n",
        "  return result\n",
        "\n",
        "test_data = pd.concat([_X_test, _y_test], axis = 1)\n",
        "test_data = clean_outlier(test_data)\n",
        "_X_test = test_data.drop(columns = ['price'])\n",
        "_y_test = test_data.loc[:, ['price']]"
      ],
      "metadata": {
        "id": "doTMAfs1AcVk"
      },
      "execution_count": 21,
      "outputs": []
    },
    {
      "cell_type": "code",
      "source": [
        "def fill_mode(data, col):\n",
        "  data[col].fillna(data[col].mode()[0], inplace = True)\n",
        "\n",
        "def fill_mean(data, col):\n",
        "  data[col].fillna(data[col].mean(), inplace = True)\n",
        "\n",
        "cols = ['fuel', 'transmission']\n",
        "one_hot_cols = pd.get_dummies(_X_test.loc[:, cols], drop_first = True)\n",
        "\n",
        "print(one_hot_cols.shape)\n",
        "\n",
        "cols = ['type', 'manufacturer', 'title_status']\n",
        "# cols = ['type', 'manufacturer', 'title_status', 'fuel', 'transmission']\n",
        "ordinal_cols = _X_test.loc[:, cols]\n",
        "for col in cols:\n",
        "  fill_mode(ordinal_cols, col)\n",
        "enc = OrdinalEncoder()\n",
        "ordinal_cols = enc.fit_transform(ordinal_cols)\n",
        "\n",
        "cols = ['odometer', 'year']\n",
        "X_test = _X_test.loc[:, cols]\n",
        "for col in cols:\n",
        "  fill_mean(X_test, col)\n",
        "scaler = MinMaxScaler()\n",
        "# scaler = StandardScaler()\n",
        "X_test = scaler.fit_transform(X_test)\n",
        "X_test = np.hstack([X_test, ordinal_cols, one_hot_cols])\n",
        "# X_test = np.hstack([X_test, one_hot_cols])"
      ],
      "metadata": {
        "id": "J4AxZ8ERaseY",
        "outputId": "0f43d0b0-420e-40ea-e648-64fedc097a1b",
        "colab": {
          "base_uri": "https://localhost:8080/"
        }
      },
      "execution_count": 22,
      "outputs": [
        {
          "output_type": "stream",
          "name": "stdout",
          "text": [
            "(117929, 6)\n"
          ]
        }
      ]
    },
    {
      "cell_type": "code",
      "source": [
        "y_test = _y_test.copy()\n",
        "scaler = MinMaxScaler()\n",
        "# scaler = StandardScaler()\n",
        "y_test = scaler.fit_transform(y_test)"
      ],
      "metadata": {
        "id": "1eqEwA8fauVI"
      },
      "execution_count": 23,
      "outputs": []
    },
    {
      "cell_type": "code",
      "source": [
        "# display(_y_train.sort_values('price'))\n",
        "# display(_y_test.sort_values('price'))\n",
        "\n",
        "display(X_train.shape)\n",
        "display(y_train.shape)\n",
        "display(y_test.shape)\n",
        "display(y_test.shape)\n",
        "\n",
        "# sns.kdeplot(data = _y_train, x = \"price\")\n",
        "# plt.show()\n",
        "# sns.kdeplot(data = _y_test, x = \"price\")"
      ],
      "metadata": {
        "id": "eQhgBP5Z6dYS",
        "outputId": "bec5e422-e7cd-45e6-e888-0e692fed6d45",
        "colab": {
          "base_uri": "https://localhost:8080/",
          "height": 94
        }
      },
      "execution_count": 24,
      "outputs": [
        {
          "output_type": "display_data",
          "data": {
            "text/plain": [
              "(278563, 11)"
            ]
          },
          "metadata": {}
        },
        {
          "output_type": "display_data",
          "data": {
            "text/plain": [
              "(278563, 1)"
            ]
          },
          "metadata": {}
        },
        {
          "output_type": "display_data",
          "data": {
            "text/plain": [
              "(117929, 1)"
            ]
          },
          "metadata": {}
        },
        {
          "output_type": "display_data",
          "data": {
            "text/plain": [
              "(117929, 1)"
            ]
          },
          "metadata": {}
        }
      ]
    },
    {
      "cell_type": "code",
      "source": [
        "reg = MLPRegressor()\n",
        "# reg = LinearRegression()\n",
        "reg.fit(X_train, y_train)\n",
        "y_pred = reg.predict(X_test)"
      ],
      "metadata": {
        "id": "0RSXioh-yT4i",
        "outputId": "1a3df503-6fce-4a3a-dd72-3a9821f1c582",
        "colab": {
          "base_uri": "https://localhost:8080/"
        }
      },
      "execution_count": 25,
      "outputs": [
        {
          "output_type": "stream",
          "name": "stderr",
          "text": [
            "/usr/local/lib/python3.7/dist-packages/sklearn/neural_network/_multilayer_perceptron.py:1599: DataConversionWarning:\n",
            "\n",
            "A column-vector y was passed when a 1d array was expected. Please change the shape of y to (n_samples, ), for example using ravel().\n",
            "\n"
          ]
        }
      ]
    },
    {
      "cell_type": "code",
      "source": [
        "from sklearn.metrics import r2_score, mean_absolute_error, mean_squared_error, accuracy_score\n",
        "\n",
        "print(\"R2 square:\", r2_score(y_test, y_pred))\n",
        "print(\"MAE:\", mean_absolute_error(y_test, y_pred))\n",
        "print(\"MSE:\", mean_squared_error(y_test, y_pred))\n",
        "\n",
        "plt.figure(figsize = (10, 10))\n",
        "plt.scatter(y_pred, y_test)\n",
        "plt.xlim(left = 0, right = 1)\n",
        "plt.xticks(list(range(0, 2)))\n",
        "plt.ylim(bottom = 0, top = 1)\n",
        "plt.yticks(list(range(0, 2)))\n",
        "plt.xlabel(\"Predicted price\")\n",
        "plt.ylabel(\"Actual price\")\n",
        "plt.show()"
      ],
      "metadata": {
        "colab": {
          "base_uri": "https://localhost:8080/",
          "height": 668
        },
        "id": "LzXS8co9Hxzr",
        "outputId": "166726f4-54d0-47fd-f70a-42df242de210"
      },
      "execution_count": 26,
      "outputs": [
        {
          "output_type": "stream",
          "name": "stdout",
          "text": [
            "R2 square: 0.4206590061969451\n",
            "MAE: 0.1252842118632036\n",
            "MSE: 0.030722617295534122\n"
          ]
        },
        {
          "output_type": "display_data",
          "data": {
            "image/png": "[encoded data removed]",
            "text/plain": [
              "<Figure size 720x720 with 1 Axes>"
            ]
          },
          "metadata": {
            "needs_background": "light"
          }
        }
      ]
    }
  ],
  "nbformat": 4,
  "nbformat_minor": 0,
  "metadata": {
    "orig_nbformat": 2,
    "deepnote": {
      "is_reactive": false
    },
    "deepnote_notebook_id": "9bcf7ded-3d58-4408-a855-71bbd4433c6a",
    "deepnote_execution_queue": [],
    "colab": {
      "name": "Proyek Akhir KASDD.ipynb",
      "provenance": [],
      "collapsed_sections": [],
      "include_colab_link": true
    },
    "language_info": {
      "name": "python"
    },
    "kernelspec": {
      "name": "python3",
      "display_name": "Python 3"
    }
  }
}